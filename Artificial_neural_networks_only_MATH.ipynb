{
  "nbformat": 4,
  "nbformat_minor": 0,
  "metadata": {
    "colab": {
      "provenance": [],
      "gpuType": "T4",
      "mount_file_id": "1KqHLE4hBJUAUwhNHnQz1zEYUbKEL6GtZ",
      "authorship_tag": "ABX9TyP0b2sHbpFgb9KGyU3v6GBz",
      "include_colab_link": true
    },
    "kernelspec": {
      "name": "python3",
      "display_name": "Python 3"
    },
    "language_info": {
      "name": "python"
    },
    "accelerator": "GPU"
  },
  "cells": [
    {
      "cell_type": "markdown",
      "metadata": {
        "id": "view-in-github",
        "colab_type": "text"
      },
      "source": [
        "<a href=\"https://colab.research.google.com/github/Tung003/Neural-networks-scrath/blob/master/Artificial_neural_networks_only_MATH.ipynb\" target=\"_parent\"><img src=\"https://colab.research.google.com/assets/colab-badge.svg\" alt=\"Open In Colab\"/></a>"
      ]
    },
    {
      "cell_type": "code",
      "execution_count": null,
      "metadata": {
        "id": "td0ya0qJqEOZ",
        "collapsed": true,
        "colab": {
          "base_uri": "https://localhost:8080/"
        },
        "outputId": "83cdb760-bec2-4eac-b492-94cf246fe687"
      },
      "outputs": [
        {
          "output_type": "stream",
          "name": "stdout",
          "text": [
            "Requirement already satisfied: numpy in /usr/local/lib/python3.11/dist-packages (1.26.4)\n",
            "Requirement already satisfied: matplotlib in /usr/local/lib/python3.11/dist-packages (3.10.0)\n",
            "Requirement already satisfied: contourpy>=1.0.1 in /usr/local/lib/python3.11/dist-packages (from matplotlib) (1.3.1)\n",
            "Requirement already satisfied: cycler>=0.10 in /usr/local/lib/python3.11/dist-packages (from matplotlib) (0.12.1)\n",
            "Requirement already satisfied: fonttools>=4.22.0 in /usr/local/lib/python3.11/dist-packages (from matplotlib) (4.56.0)\n",
            "Requirement already satisfied: kiwisolver>=1.3.1 in /usr/local/lib/python3.11/dist-packages (from matplotlib) (1.4.8)\n",
            "Requirement already satisfied: numpy>=1.23 in /usr/local/lib/python3.11/dist-packages (from matplotlib) (1.26.4)\n",
            "Requirement already satisfied: packaging>=20.0 in /usr/local/lib/python3.11/dist-packages (from matplotlib) (24.2)\n",
            "Requirement already satisfied: pillow>=8 in /usr/local/lib/python3.11/dist-packages (from matplotlib) (11.1.0)\n",
            "Requirement already satisfied: pyparsing>=2.3.1 in /usr/local/lib/python3.11/dist-packages (from matplotlib) (3.2.1)\n",
            "Requirement already satisfied: python-dateutil>=2.7 in /usr/local/lib/python3.11/dist-packages (from matplotlib) (2.8.2)\n",
            "Requirement already satisfied: six>=1.5 in /usr/local/lib/python3.11/dist-packages (from python-dateutil>=2.7->matplotlib) (1.17.0)\n",
            "Requirement already satisfied: pandas in /usr/local/lib/python3.11/dist-packages (2.2.2)\n",
            "Requirement already satisfied: numpy>=1.23.2 in /usr/local/lib/python3.11/dist-packages (from pandas) (1.26.4)\n",
            "Requirement already satisfied: python-dateutil>=2.8.2 in /usr/local/lib/python3.11/dist-packages (from pandas) (2.8.2)\n",
            "Requirement already satisfied: pytz>=2020.1 in /usr/local/lib/python3.11/dist-packages (from pandas) (2025.1)\n",
            "Requirement already satisfied: tzdata>=2022.7 in /usr/local/lib/python3.11/dist-packages (from pandas) (2025.1)\n",
            "Requirement already satisfied: six>=1.5 in /usr/local/lib/python3.11/dist-packages (from python-dateutil>=2.8.2->pandas) (1.17.0)\n"
          ]
        }
      ],
      "source": [
        "!pip install numpy\n",
        "!pip install matplotlib\n",
        "!pip install pandas"
      ]
    },
    {
      "cell_type": "code",
      "source": [
        "import numpy as np\n",
        "import matplotlib.pyplot as plt\n",
        "import pandas as pd"
      ],
      "metadata": {
        "id": "HjDh9i_brkS4"
      },
      "execution_count": null,
      "outputs": []
    },
    {
      "cell_type": "code",
      "source": [
        "from google.colab import drive\n",
        "drive.mount('/content/drive')"
      ],
      "metadata": {
        "id": "W0--rPusrrYA",
        "colab": {
          "base_uri": "https://localhost:8080/"
        },
        "outputId": "6c14eb6b-019f-4516-c4ed-5f95d20314ff"
      },
      "execution_count": null,
      "outputs": [
        {
          "output_type": "stream",
          "name": "stdout",
          "text": [
            "Drive already mounted at /content/drive; to attempt to forcibly remount, call drive.mount(\"/content/drive\", force_remount=True).\n"
          ]
        }
      ]
    },
    {
      "cell_type": "code",
      "source": [
        "!pip install zip-files\n",
        "import zipfile\n",
        "path_file_train=r\"/content/drive/MyDrive/Colab Notebooks/MNIST/train.csv.zip\"\n",
        "with zipfile.ZipFile(path_file_train, 'r') as zip_ref:\n",
        "    zip_ref.extractall(\"/content/drive/MyDrive/Colab Notebooks/MNIST\")"
      ],
      "metadata": {
        "id": "PT41p9K5-1gy",
        "colab": {
          "base_uri": "https://localhost:8080/"
        },
        "outputId": "d62f8599-9ab2-47ce-f510-7acfc9b40ee0",
        "collapsed": true
      },
      "execution_count": null,
      "outputs": [
        {
          "output_type": "stream",
          "name": "stdout",
          "text": [
            "Collecting zip-files\n",
            "  Downloading zip_files-0.4.1-py3-none-any.whl.metadata (12 kB)\n",
            "Requirement already satisfied: click in /usr/local/lib/python3.11/dist-packages (from zip-files) (8.1.8)\n",
            "Downloading zip_files-0.4.1-py3-none-any.whl (12 kB)\n",
            "Installing collected packages: zip-files\n",
            "Successfully installed zip-files-0.4.1\n"
          ]
        }
      ]
    },
    {
      "cell_type": "code",
      "source": [
        "import numpy as np\n",
        "import pandas as pd\n",
        "import matplotlib.pyplot as plt\n",
        "import math\n",
        "\n",
        "data_set=pd.read_csv(\"/content/drive/MyDrive/Colab Notebooks/MNIST/train.csv\")\n",
        "data_train_frame=pd.DataFrame(data_set)\n",
        "\"\"\"\n",
        "dữ liệu train 42000 mẫu dữ liệu dùng 10% mẫu cho bộ test, còn lại 90% cho bộ train\n",
        "\"\"\"\n",
        "#chia bộ train và bộ test\n",
        "data_set_for_train=data_train_frame[0:37800]\n",
        "data_set_for_test =data_train_frame[37800:42000]\n",
        "\n",
        "label_train=data_set_for_train[\"label\"]\n",
        "label_test =data_set_for_test[\"label\"]\n",
        "\n",
        "data_train=data_set_for_train.drop(\"label\",axis=1)/255.\n",
        "data_test=data_set_for_test.drop(\"label\",axis=1)/255.\n"
      ],
      "metadata": {
        "id": "IJcT91G56sc8",
        "collapsed": true
      },
      "execution_count": null,
      "outputs": []
    },
    {
      "cell_type": "code",
      "source": [
        "def one_hot(labels,numclases=10):\n",
        "  \"\"\"0=>label=0000000000\n",
        "  1=>label=0100000000\n",
        "  4=>label=0000100000\n",
        "  9=>label=0000000001\"\"\"\n",
        "  label_return=np.zeros(numclases)\n",
        "  label_return[labels]=1\n",
        "  return label_return\n",
        "\n",
        "class load_data:\n",
        "  def __init__(self,data,label,shufle=True):\n",
        "    self.data=np.array(data)\n",
        "    self.label=np.array(label)\n",
        "    if shufle:\n",
        "      indices = np.arange(len(self.data))\n",
        "      np.random.shuffle(indices)\n",
        "      self.data = self.data[indices]\n",
        "      self.label = self.label[indices]\n",
        "\n",
        "  def __getitem__(self,index):\n",
        "    return self.data[index],one_hot(self.label[index])\n",
        "\n",
        "  def __len__(self):\n",
        "    return len(self.data)\n",
        "\n",
        "  def get_batch(self,batch_size):\n",
        "    indices = np.random.choice(len(self.data), batch_size, replace=False)\n",
        "    batch_X = self.data[indices]\n",
        "    batch_y = np.array([one_hot(self.label[i]) for i in indices])\n",
        "    return batch_X, batch_y"
      ],
      "metadata": {
        "collapsed": true,
        "id": "O3as7RJrvqcQ"
      },
      "execution_count": null,
      "outputs": []
    },
    {
      "cell_type": "code",
      "source": [
        "class Layer:\n",
        "  def __init__(self,input,output):\n",
        "    self.input=None\n",
        "    self.output=None\n",
        "\n",
        "  def forward(self,input):\n",
        "    pass\n",
        "\n",
        "  def backward(self,output_gradien,learning_rate):\n",
        "    pass"
      ],
      "metadata": {
        "id": "4VvrQeYkC-ib"
      },
      "execution_count": null,
      "outputs": []
    },
    {
      "cell_type": "code",
      "source": [
        "class Activation(Layer):\n",
        "  def __init__(self,activation,activation_prime):\n",
        "    self.activation=activation\n",
        "    self.activation_prime=activation_prime\n",
        "\n",
        "  def forward(self,input):\n",
        "    self.input=input\n",
        "    return self.activation(self.input)\n",
        "  def backward(self,output_gradient,lr):\n",
        "    return np.multiply(self.activation_prime(self.input),output_gradient)\n",
        "\n",
        "class Tanh(Activation):\n",
        "  def __init__(self):\n",
        "     super().__init__(self.tanh,self.tanh_prime)\n",
        "  def tanh(self,x):\n",
        "    return np.tanh(x)\n",
        "  def tanh_prime(self,x):\n",
        "    return 1-np.tanh(x)**2\n",
        "\n",
        "class Softmax(Activation):\n",
        "    def __init__(self):\n",
        "        super().__init__(self.softmax, self.softmax_prime)\n",
        "\n",
        "    def softmax(self, x):\n",
        "        exp_x = np.exp(x - np.max(x, axis=-1, keepdims=True))\n",
        "        return exp_x / np.sum(exp_x, axis=-1, keepdims=True)\n",
        "\n",
        "    def softmax_prime(self, x):\n",
        "        s = self.softmax(x)\n",
        "        return s * (1 - s)"
      ],
      "metadata": {
        "id": "mDOYM0Hf1IV-"
      },
      "execution_count": null,
      "outputs": []
    },
    {
      "cell_type": "code",
      "source": [
        "class Artificial_Neuron_Networks_new(Layer):\n",
        "\n",
        "    \"\"\"input[2x3]=input[1x6]=>Z=X.W+B -> W[6 x output_size]\n",
        "    vì 2 ma trận X và W nhân với nhau cho ra ma trận s'=[1x6].[6 x output_size]\n",
        "    s'=[1 x output_size]\n",
        "    và B phải có kích thước [1 x output_size] để cộng s' với B => Z=[1 x output_size]\n",
        "    *{Z0=x0.W00 + x1.W10 + x2.W20 + x3.W30 + x4.W40 + x5.W50 + b0}\n",
        "    {Z1=x0.W01 + x1.W11 + x2.W21 + x3.W31 + x4.W41 + x5.W51 + b1}\n",
        "    {Z2=x0.W02 + x1.W12 + x2.W22 + x3.W32 + x4.W42 + x5.W52 + b2}\n",
        "    {Z3=x0.W03 + x1.W13 + x2.W23 + x3.W33 + x4.W43 + x5.W53 + b3}\n",
        "    {Z4=x0.W04 + x1.W14 + x2.W24 + x3.W34 + x4.W44 + x5.W54 + b4}\n",
        "    {Z5=x0.W05 + x1.W15 + x2.W25 + x3.W35 + x4.W45 + x5.W55 + b5}\n",
        "    {Z6=x0.W06 + x1.W16 + x2.W26 + x3.W36 + x4.W46 + x5.W56 + b6}\"\"\"\n",
        "    def __init__(self,num_in_neuron,num_out_neuron,activation=None):\n",
        "      #super().__init__(num_in_neuron, num_out_neuron)\n",
        "      self.weight = np.random.randn(num_in_neuron, num_out_neuron)\n",
        "      self.bias=np.zeros((1,num_out_neuron))+0.5\n",
        "      self.activation=activation\n",
        "\n",
        "    def forward(self,input):\n",
        "      \"\"\"nếu input có 6 neural đầu vào và ta đặt số neural đầu ra là 7\n",
        "      w có kích thước là 6 hàng 7 cột\n",
        "      b có kích thước là 1 hàng 7 cột\"\"\"\n",
        "      self.input=input\n",
        "      return np.dot(self.input,self.weight)+self.bias #Z=X.W+B\n",
        "\n",
        "\n",
        "    def backward(self,output_gradient,lr):\n",
        "      \"\"\"ta cần tính được đạo hàm của hàm lỗi E với W, X, B và với Z\n",
        "    tính đạo hàm riêng dE/dW: giả sử ta dùng hàm loss E là MSE = 1/2(Z-Z')^2\n",
        "    + tính đạo hàm dE/dW00 theo quy tắc chuỗi nối tiếp thì\n",
        "    dE/dW00= (dE/dZ0).(dZ0/dW00) + (dE/dZ1).(dZ1/dW00) +...+ (dE/dZ6).(dZ6/dW00)\n",
        "    dE/dW13= (dE/dZ0).(dZ0/dW13) + (dE/dZ1).(dZ1/dW13) +..+ (dE/dZ3).(dZ3/dW13) + ...\n",
        "    ở đây có thể thấy được rằng từ (*) ở trên\n",
        "    thì dE/dW00 chỉ có (dE/dZ0).dZ0/dW00 {dZ0/dW00 = x0 còn các giá trị dZ1/dW00...đều bằng 0}\n",
        "    => dE/dW00 = (dE/dZ0). x0 ; dE/dW13 = (dE/dZ3).x1\n",
        "    theo quỹ tắc đạo hàm theo chuỗi thì ta cũng có thể đổi vị trí hay phép tính\n",
        "    dE/dW13 = (dE/dZ3).x1 hoặc x1.(dE/dZ3)\n",
        "    từ đây rút ra công thức tổng quát: dE/dW(i,j)=xi.(dE/dZj)\n",
        "    và rút ra công thức theo ma trận: Xt.(dE/dZ) (**)\n",
        "    \"\"\"\n",
        "      w_grad=np.dot(self.input.T,output_gradient)\n",
        "      bias_grad = np.mean(output_gradient, axis=0, keepdims=True)\n",
        "      self.weight-=lr*w_grad\n",
        "      self.bias-=lr* bias_grad\n",
        "      return np.dot(output_gradient,self.weight.T)"
      ],
      "metadata": {
        "id": "a_p0IebIJNp0"
      },
      "execution_count": null,
      "outputs": []
    },
    {
      "cell_type": "code",
      "source": [
        "networks=[Artificial_Neuron_Networks_new(784,512),\n",
        "          Tanh(),\n",
        "          Artificial_Neuron_Networks_new(512,256),\n",
        "          Tanh(),\n",
        "          Artificial_Neuron_Networks_new(256,128),\n",
        "          Tanh(),\n",
        "          Artificial_Neuron_Networks_new(128,64),\n",
        "          Tanh(),\n",
        "          Artificial_Neuron_Networks_new(64,32),\n",
        "          Tanh(),\n",
        "          Artificial_Neuron_Networks_new(32,10),\n",
        "          Softmax()]"
      ],
      "metadata": {
        "id": "T1f9giza2UQ1"
      },
      "execution_count": null,
      "outputs": []
    },
    {
      "cell_type": "code",
      "source": [
        "def pred(networks,input):\n",
        "  output=input\n",
        "  for layer in networks:\n",
        "    output=layer.forward(output)\n",
        "  return output\n",
        "def cross_entropy_loss(y_true, y_pred):\n",
        "    \"\"\"tính cross-entropy loss giữa nhãn thật và nhãn dự đoán của mô hình\"\"\"\n",
        "    # Thêm epsilon để tránh log(0)\n",
        "    return -np.sum(y_true * np.log(y_pred + 1e-9))"
      ],
      "metadata": {
        "id": "PRD1quqI2Xxl"
      },
      "execution_count": null,
      "outputs": []
    },
    {
      "cell_type": "code",
      "source": [
        "def accuracy(y_predict, y_true):\n",
        "    \"\"\"\n",
        "    Tính độ chính xác của mô hình.\n",
        "    y_predict: Dự đoán đầu ra (batch_size, num_classes)\n",
        "    y_true: Nhãn thực tế (batch_size, num_classes) (one-hot encoded)\n",
        "    \"\"\"\n",
        "    predict_labels = np.argmax(y_predict, axis=1)  # Lấy chỉ số lớp có xác suất cao nhất\n",
        "    true_labels = np.argmax(y_true, axis=1)  # Lấy chỉ số lớp từ one-hot encoding\n",
        "    return np.mean(predict_labels == true_labels)  # Tính tỷ lệ dự đoán đúng\n"
      ],
      "metadata": {
        "id": "OLeN-7uVmBq4"
      },
      "execution_count": null,
      "outputs": []
    },
    {
      "cell_type": "code",
      "source": [
        "def train(networks, data_loader, epochs=10, batch_size=32, learning_rate=0.01):\n",
        "    \"\"\"\n",
        "    Huấn luyện mạng neural network.\n",
        "    networks: 1 mảng các lớp kết nối đầy đủ.\n",
        "    data_loader: dữ liệu huấn luyện.\n",
        "    epochs: số vòng lặp huấn luyện(số lần toàn bộ dữ liệu được huấn luyện cho mô hình).\n",
        "    batch_size: số lượng mẫu mỗi batch.\n",
        "    learning_rate: tốc độ học.\n",
        "    \"\"\"\n",
        "\n",
        "    for epoch in range(epochs):\n",
        "        total_loss = 0\n",
        "        total_acc = 0\n",
        "        num_batches = len(data_loader) // batch_size\n",
        "\n",
        "        for _ in range(num_batches):\n",
        "            # lấy batch dữ liệu huấn luyện và dữ liệu nhãn\n",
        "            batch_X, batch_y = data_loader.get_batch(batch_size)\n",
        "\n",
        "            # quá trình forward\n",
        "            output = batch_X\n",
        "            for layer in networks:\n",
        "                output = layer.forward(output)\n",
        "\n",
        "            # tính toán loss\n",
        "            loss = cross_entropy_loss(batch_y, output)\n",
        "            total_loss += loss\n",
        "\n",
        "            # tính toán độ chính xác accuracy\n",
        "            acc = accuracy(output, batch_y)\n",
        "            total_acc += acc\n",
        "\n",
        "            # quá trình backward\n",
        "            grad = output - batch_y  # gradient loss (softmax + crossEntropy)\n",
        "            for layer in reversed(networks):\n",
        "                grad = layer.backward(grad, learning_rate)\n",
        "\n",
        "        # trung bình loss và accuracy trong epoch\n",
        "        avg_loss = total_loss / num_batches\n",
        "        avg_acc = total_acc / num_batches\n",
        "        print(f\"Epoch {epoch+1}/{epochs} - Loss: {avg_loss:.4f} - Accuracy: {avg_acc:.4f}\")\n",
        "\n",
        "# load data train và test\n",
        "train_loader = load_data(data_train, label_train)\n",
        "test_loader=load_data(data_test,label_test)\n"
      ],
      "metadata": {
        "id": "OVHDFJt9mZpt"
      },
      "execution_count": null,
      "outputs": []
    },
    {
      "cell_type": "code",
      "source": [
        "def visualize_predictions(networks, data_loader, num_samples=10):\n",
        "    \"\"\"\n",
        "    hiển thị 10 ảnh từ tập test cùng với nhãn thực tế và nhãn dự đoán của model.\n",
        "    \"\"\"\n",
        "    batch_X, batch_y = data_loader.get_batch(num_samples)  # Lấy 10 ảnh từ tập test\n",
        "\n",
        "    output = batch_X\n",
        "    for layer in networks:\n",
        "        output = layer.forward(output)\n",
        "\n",
        "    predictions = np.argmax(output, axis=1)\n",
        "    true_labels = np.argmax(batch_y, axis=1)\n",
        "\n",
        "    fig, axes = plt.subplots(2, 5, figsize=(10, 5))\n",
        "    axes = axes.ravel()  # Chuyển ma trận axes thành mảng 1D để dễ truy cập\n",
        "\n",
        "    for i in range(num_samples):\n",
        "        axes[i].imshow(batch_X[i].reshape(28, 28), cmap='gray')  # Chuyển về ảnh 28x28\n",
        "        axes[i].set_title(f\"Pred: {predictions[i]}\\nTrue: {true_labels[i]}\")\n",
        "        axes[i].axis('off')  # Tắt trục tọa độ\n",
        "\n",
        "    plt.tight_layout()\n",
        "    plt.show()\n",
        "\n",
        "# Huấn luyện mô hình\n",
        "train(networks, train_loader, epochs=70, batch_size=32, learning_rate=0.005)\n",
        "\n",
        "# Hiển thị dự đoán trên 10 ảnh test ngay sau khi train\n",
        "visualize_predictions(networks, test_loader, num_samples=10)\n"
      ],
      "metadata": {
        "colab": {
          "base_uri": "https://localhost:8080/",
          "height": 1000
        },
        "id": "yH_HeG5i-WyS",
        "outputId": "d0bfc972-382e-4f5a-c054-eb83db99b08f"
      },
      "execution_count": null,
      "outputs": [
        {
          "output_type": "stream",
          "name": "stdout",
          "text": [
            "Epoch 1/70 - Loss: 123.4725 - Accuracy: 0.1317\n",
            "Epoch 2/70 - Loss: 70.7750 - Accuracy: 0.1949\n",
            "Epoch 3/70 - Loss: 67.0799 - Accuracy: 0.2286\n",
            "Epoch 4/70 - Loss: 63.7097 - Accuracy: 0.2715\n",
            "Epoch 5/70 - Loss: 59.4601 - Accuracy: 0.3218\n",
            "Epoch 6/70 - Loss: 56.3496 - Accuracy: 0.3553\n",
            "Epoch 7/70 - Loss: 53.1628 - Accuracy: 0.3917\n",
            "Epoch 8/70 - Loss: 50.2894 - Accuracy: 0.4219\n",
            "Epoch 9/70 - Loss: 48.2692 - Accuracy: 0.4396\n",
            "Epoch 10/70 - Loss: 46.5585 - Accuracy: 0.4634\n",
            "Epoch 11/70 - Loss: 44.9128 - Accuracy: 0.4738\n",
            "Epoch 12/70 - Loss: 44.3791 - Accuracy: 0.4890\n",
            "Epoch 13/70 - Loss: 42.8317 - Accuracy: 0.5030\n",
            "Epoch 14/70 - Loss: 41.6073 - Accuracy: 0.5199\n",
            "Epoch 15/70 - Loss: 40.6102 - Accuracy: 0.5454\n",
            "Epoch 16/70 - Loss: 40.1077 - Accuracy: 0.5567\n",
            "Epoch 17/70 - Loss: 38.8177 - Accuracy: 0.5782\n",
            "Epoch 18/70 - Loss: 38.4978 - Accuracy: 0.5773\n",
            "Epoch 19/70 - Loss: 36.6488 - Accuracy: 0.6026\n",
            "Epoch 20/70 - Loss: 36.2770 - Accuracy: 0.6087\n",
            "Epoch 21/70 - Loss: 35.4805 - Accuracy: 0.6208\n",
            "Epoch 22/70 - Loss: 34.8556 - Accuracy: 0.6330\n",
            "Epoch 23/70 - Loss: 33.9663 - Accuracy: 0.6493\n",
            "Epoch 24/70 - Loss: 33.1950 - Accuracy: 0.6573\n",
            "Epoch 25/70 - Loss: 32.1406 - Accuracy: 0.6711\n",
            "Epoch 26/70 - Loss: 31.1271 - Accuracy: 0.6825\n",
            "Epoch 27/70 - Loss: 30.3353 - Accuracy: 0.6974\n",
            "Epoch 28/70 - Loss: 29.5650 - Accuracy: 0.7131\n",
            "Epoch 29/70 - Loss: 29.4288 - Accuracy: 0.7132\n",
            "Epoch 30/70 - Loss: 28.7724 - Accuracy: 0.7207\n",
            "Epoch 31/70 - Loss: 28.2306 - Accuracy: 0.7290\n",
            "Epoch 32/70 - Loss: 27.7652 - Accuracy: 0.7346\n",
            "Epoch 33/70 - Loss: 26.9175 - Accuracy: 0.7480\n",
            "Epoch 34/70 - Loss: 26.3723 - Accuracy: 0.7550\n",
            "Epoch 35/70 - Loss: 25.5639 - Accuracy: 0.7664\n",
            "Epoch 36/70 - Loss: 25.3253 - Accuracy: 0.7700\n",
            "Epoch 37/70 - Loss: 24.7109 - Accuracy: 0.7812\n",
            "Epoch 38/70 - Loss: 24.5100 - Accuracy: 0.7828\n",
            "Epoch 39/70 - Loss: 23.7532 - Accuracy: 0.7929\n",
            "Epoch 40/70 - Loss: 23.2117 - Accuracy: 0.7971\n",
            "Epoch 41/70 - Loss: 22.3108 - Accuracy: 0.8085\n",
            "Epoch 42/70 - Loss: 22.3467 - Accuracy: 0.8093\n",
            "Epoch 43/70 - Loss: 21.8649 - Accuracy: 0.8153\n",
            "Epoch 44/70 - Loss: 21.8988 - Accuracy: 0.8137\n",
            "Epoch 45/70 - Loss: 21.5261 - Accuracy: 0.8160\n",
            "Epoch 46/70 - Loss: 21.2431 - Accuracy: 0.8200\n",
            "Epoch 47/70 - Loss: 20.8209 - Accuracy: 0.8246\n",
            "Epoch 48/70 - Loss: 20.6696 - Accuracy: 0.8266\n",
            "Epoch 49/70 - Loss: 20.8009 - Accuracy: 0.8247\n",
            "Epoch 50/70 - Loss: 20.3320 - Accuracy: 0.8301\n",
            "Epoch 51/70 - Loss: 20.4235 - Accuracy: 0.8304\n",
            "Epoch 52/70 - Loss: 19.9453 - Accuracy: 0.8318\n",
            "Epoch 53/70 - Loss: 19.9757 - Accuracy: 0.8317\n",
            "Epoch 54/70 - Loss: 18.8378 - Accuracy: 0.8416\n",
            "Epoch 55/70 - Loss: 18.5935 - Accuracy: 0.8443\n",
            "Epoch 56/70 - Loss: 18.8338 - Accuracy: 0.8451\n",
            "Epoch 57/70 - Loss: 18.3982 - Accuracy: 0.8484\n",
            "Epoch 58/70 - Loss: 17.3876 - Accuracy: 0.8549\n",
            "Epoch 59/70 - Loss: 17.7720 - Accuracy: 0.8534\n",
            "Epoch 60/70 - Loss: 17.5820 - Accuracy: 0.8552\n",
            "Epoch 61/70 - Loss: 17.3800 - Accuracy: 0.8560\n",
            "Epoch 62/70 - Loss: 17.3934 - Accuracy: 0.8565\n",
            "Epoch 63/70 - Loss: 17.2670 - Accuracy: 0.8582\n",
            "Epoch 64/70 - Loss: 16.9498 - Accuracy: 0.8590\n",
            "Epoch 65/70 - Loss: 16.5901 - Accuracy: 0.8635\n",
            "Epoch 66/70 - Loss: 16.1347 - Accuracy: 0.8664\n",
            "Epoch 67/70 - Loss: 16.3456 - Accuracy: 0.8677\n",
            "Epoch 68/70 - Loss: 16.2056 - Accuracy: 0.8654\n",
            "Epoch 69/70 - Loss: 16.1819 - Accuracy: 0.8659\n",
            "Epoch 70/70 - Loss: 16.0097 - Accuracy: 0.8685\n"
          ]
        },
        {
          "output_type": "display_data",
          "data": {
            "text/plain": [
              "<Figure size 1000x500 with 10 Axes>"
            ],
            "image/png": "[encoded data removed]"
          },
          "metadata": {}
        }
      ]
    },
    {
      "cell_type": "code",
      "source": [
        "# Lưu lại trọng số mô hình sau khi huấn luyện vào file npz để khi cần tiếp tục train\n",
        "# Hoặc phục vụ các mục đích khác.\n",
        "def save_weights(networks, filename=\"model_weights.npz\"):\n",
        "    weights = {}\n",
        "    biases = {}\n",
        "\n",
        "    for i, layer in enumerate(networks):\n",
        "        # Chỉ lưu những lớp có trọng số mà không lưu các lớp như Tanh...\n",
        "        if hasattr(layer, \"weight\") and hasattr(layer, \"bias\"):\n",
        "            weights[f\"W_{i}\"] = layer.weight\n",
        "            biases[f\"b_{i}\"] = layer.bias\n",
        "\n",
        "    np.savez(filename, **weights, **biases)\n",
        "    print(f\"Trọng số đã được lưu vào {filename}\")\n",
        "\n",
        "save_weights(networks)\n"
      ],
      "metadata": {
        "colab": {
          "base_uri": "https://localhost:8080/"
        },
        "id": "PnEAVPOB7Ig1",
        "outputId": "521eff4b-02cc-43b5-a747-cac35dcf856c"
      },
      "execution_count": null,
      "outputs": [
        {
          "output_type": "stream",
          "name": "stdout",
          "text": [
            "Trọng số đã được lưu vào model_weights.npz\n"
          ]
        }
      ]
    },
    {
      "cell_type": "code",
      "source": [
        "def load_weights(networks, filename=\"model_weights.npz\"):\n",
        "    data = np.load(filename)\n",
        "    for i, layer in enumerate(networks):\n",
        "        if hasattr(layer, \"weight\") and hasattr(layer, \"bias\"):\n",
        "            layer.weight = data[f\"W_{i}\"]\n",
        "            layer.bias = data[f\"b_{i}\"]\n",
        "    print(f\"Trọng số đã được tải từ {filename}\")\n",
        "\n",
        "load_weights(networks)\n"
      ],
      "metadata": {
        "colab": {
          "base_uri": "https://localhost:8080/"
        },
        "id": "Z3XnjkDl8Sxk",
        "outputId": "61c0b6e4-0a1f-4f84-bb81-f723f2cbaecd"
      },
      "execution_count": null,
      "outputs": [
        {
          "output_type": "stream",
          "name": "stdout",
          "text": [
            "Trọng số đã được tải từ model_weights.npz\n"
          ]
        }
      ]
    },
    {
      "cell_type": "code",
      "source": [
        "def test_model(networks, data_loader, num_samples=10):\n",
        "    batch_X, batch_y = data_loader.get_batch(num_samples)  # Lấy 10 mẫu test\n",
        "\n",
        "    output = batch_X\n",
        "    for layer in networks:\n",
        "        output = layer.forward(output)\n",
        "\n",
        "    predictions = np.argmax(output, axis=1)\n",
        "    true_labels = np.argmax(batch_y, axis=1)\n",
        "\n",
        "    print(\"Dự đoán  |  Nhãn thật\")\n",
        "    print(\"-\" * 20)\n",
        "    for pred, true in zip(predictions, true_labels):\n",
        "        print(f\"   {pred}       |     {true}\")\n",
        "\n",
        "load_weights(networks, \"model_weights.npz\")\n",
        "\n",
        "test_model(networks, test_loader, num_samples=10)\n"
      ],
      "metadata": {
        "colab": {
          "base_uri": "https://localhost:8080/"
        },
        "id": "BeDM4vFe9EJP",
        "outputId": "b468c4d2-2d8d-41e6-d7c2-7c11a1f78f61"
      },
      "execution_count": null,
      "outputs": [
        {
          "output_type": "stream",
          "name": "stdout",
          "text": [
            "Trọng số đã được tải từ model_weights.npz\n",
            "Dự đoán  |  Nhãn thật\n",
            "--------------------\n",
            "   3       |     5\n",
            "   9       |     9\n",
            "   9       |     9\n",
            "   8       |     8\n",
            "   4       |     4\n",
            "   2       |     2\n",
            "   7       |     7\n",
            "   0       |     0\n",
            "   9       |     9\n",
            "   6       |     6\n"
          ]
        }
      ]
    }
  ]
}